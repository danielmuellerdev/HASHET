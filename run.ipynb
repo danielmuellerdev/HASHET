{
 "cells": [
  {
   "cell_type": "code",
   "execution_count": 1,
   "metadata": {},
   "outputs": [
    {
     "name": "stderr",
     "output_type": "stream",
     "text": [
      "/usr/local/lib/python3.7/site-packages/tqdm/auto.py:22: TqdmWarning: IProgress not found. Please update jupyter and ipywidgets. See https://ipywidgets.readthedocs.io/en/stable/user_install.html\n",
      "  from .autonotebook import tqdm as notebook_tqdm\n"
     ]
    }
   ],
   "source": [
    "import pickle\n",
    "\n",
    "from tweet_processor import TweetProcessor\n",
    "from word_embedding_model import WordEmbeddingModel\n",
    "from sentence_embedding_model import SentenceEmbeddingModel\n",
    "\n",
    "dataset_file_path = 'datasets/hashtags-en-tweets.jsonl'\n",
    "\n",
    "tweet_processor = TweetProcessor()\n",
    "\n",
    "# word_emb_tweets = tweet_processor.preprocess_tweets_for_word_embedding(dataset_file_path)\n",
    "\n",
    "# word_embedding_model = WordEmbeddingModel()\n",
    "# word_embedding_model.train(word_emb_tweets)\n",
    "\n",
    "# pickle.dump(word_embedding_model, open('save_files/word_emb_model.pkl', 'wb'))\n",
    "\n",
    "word_emb_model = pickle.load(open('save_files/word_emb_model.pkl', 'rb'))\n",
    "\n",
    "sent_emb_tweets = tweet_processor.preprocess_tweets_for_sentence_embedding(dataset_file_path)"
   ]
  },
  {
   "cell_type": "code",
   "execution_count": 2,
   "metadata": {},
   "outputs": [],
   "source": [
    "from dataset import DataModule\n",
    "from hashtag_to_sent_mapper import Hashtag2SentMapper\n",
    "\n",
    "import torch\n",
    "\n",
    "data_module = DataModule.restore_from_file()\n",
    "data_module.batch_size = 500\n",
    "data_module.num_workers = 1\n",
    "\n",
    "device = torch.device('cuda' if torch.cuda.is_available() else 'cpu')\n",
    "\n",
    "hashtag_to_sent_mapper = Hashtag2SentMapper(data_module.in_features, data_module.out_features, learning_rate=0.001, hidden_layer1_size=300, hidden_layer2_size=500).to(device)"
   ]
  },
  {
   "cell_type": "code",
   "execution_count": 3,
   "metadata": {},
   "outputs": [
    {
     "name": "stderr",
     "output_type": "stream",
     "text": [
      "GPU available: False, used: False\n",
      "TPU available: False, using: 0 TPU cores\n",
      "IPU available: False, using: 0 IPUs\n",
      "HPU available: False, using: 0 HPUs\n",
      "\n",
      "  | Name                  | Type                | Params\n",
      "--------------------------------------------------------------\n",
      "0 | _model                | Sequential          | 580 K \n",
      "1 | _cosine_distance_loss | CosineEmbeddingLoss | 0     \n",
      "2 | _cosine_similarity    | CosineSimilarity    | 0     \n",
      "--------------------------------------------------------------\n",
      "580 K     Trainable params\n",
      "0         Non-trainable params\n",
      "580 K     Total params\n",
      "2.322     Total estimated model params size (MB)\n"
     ]
    },
    {
     "name": "stdout",
     "output_type": "stream",
     "text": [
      "Sanity Checking: 0it [00:00, ?it/s]"
     ]
    },
    {
     "name": "stderr",
     "output_type": "stream",
     "text": [
      "/usr/local/lib/python3.7/site-packages/pytorch_lightning/trainer/connectors/data_connector.py:245: PossibleUserWarning: The dataloader, val_dataloader 0, does not have many workers which may be a bottleneck. Consider increasing the value of the `num_workers` argument` (try 7 which is the number of cpus on this machine) in the `DataLoader` init to improve performance.\n",
      "  category=PossibleUserWarning,\n"
     ]
    },
    {
     "name": "stdout",
     "output_type": "stream",
     "text": [
      "                                                                           "
     ]
    },
    {
     "name": "stderr",
     "output_type": "stream",
     "text": [
      "/usr/local/lib/python3.7/site-packages/pytorch_lightning/trainer/connectors/data_connector.py:245: PossibleUserWarning: The dataloader, train_dataloader, does not have many workers which may be a bottleneck. Consider increasing the value of the `num_workers` argument` (try 7 which is the number of cpus on this machine) in the `DataLoader` init to improve performance.\n",
      "  category=PossibleUserWarning,\n"
     ]
    },
    {
     "name": "stdout",
     "output_type": "stream",
     "text": [
      "Epoch 499: 100%|██████████| 7/7 [00:00<00:00,  8.62it/s, loss=0.00881, v_num=20]"
     ]
    },
    {
     "name": "stderr",
     "output_type": "stream",
     "text": [
      "/usr/local/lib/python3.7/site-packages/pytorch_lightning/trainer/trainer.py:1447: UserWarning: `.test(ckpt_path=None)` was called without a model. The best model of the previous `fit` call will be used. You can pass `test(ckpt_path='best')` to use and best model checkpoint and avoid this warning or `ckpt_path=trainer.checkpoint_callback.last_model_path` to use the last model.\n",
      "  f\"`.{fn}(ckpt_path=None)` was called without a model.\"\n",
      "Restoring states from the checkpoint path at /workspaces/HASHET/lightning_logs/version_20/checkpoints/epoch=499-step=3000.ckpt\n"
     ]
    },
    {
     "name": "stdout",
     "output_type": "stream",
     "text": [
      "\n"
     ]
    },
    {
     "name": "stderr",
     "output_type": "stream",
     "text": [
      "Loaded model weights from checkpoint at /workspaces/HASHET/lightning_logs/version_20/checkpoints/epoch=499-step=3000.ckpt\n",
      "/usr/local/lib/python3.7/site-packages/pytorch_lightning/trainer/connectors/data_connector.py:245: PossibleUserWarning: The dataloader, test_dataloader 0, does not have many workers which may be a bottleneck. Consider increasing the value of the `num_workers` argument` (try 7 which is the number of cpus on this machine) in the `DataLoader` init to improve performance.\n",
      "  category=PossibleUserWarning,\n"
     ]
    },
    {
     "name": "stdout",
     "output_type": "stream",
     "text": [
      "Testing DataLoader 0: 100%|██████████| 2/2 [00:00<00:00, 38.60it/s]\n",
      "────────────────────────────────────────────────────────────────────────────────────────────────────────────────────────\n",
      "       Test metric             DataLoader 0\n",
      "────────────────────────────────────────────────────────────────────────────────────────────────────────────────────────\n",
      "  test_cosine_distance      0.29528093338012695\n",
      "        test_loss          0.022327067330479622\n",
      "────────────────────────────────────────────────────────────────────────────────────────────────────────────────────────\n"
     ]
    }
   ],
   "source": [
    "from pytorch_lightning.callbacks.early_stopping import EarlyStopping\n",
    "import pytorch_lightning as pl\n",
    "\n",
    "# torch.autograd.set_detect_anomaly(True)\n",
    "\n",
    "trainer = pl.Trainer(\n",
    "    gpus=0, max_epochs=500, \n",
    "    callbacks=[EarlyStopping(monitor='val_loss', patience=200)],\n",
    "# callbacks=[EarlyStopping(monitor='val_cosine_distance', patience=200)],  \n",
    "#  track_grad_norm=2, detect_anomaly=True, \n",
    "    log_every_n_steps=1\n",
    ") \n",
    "trainer.fit(\n",
    "    hashtag_to_sent_mapper, \n",
    "    data_module.train_dataloader(),\n",
    "    data_module.val_dataloader()\n",
    ")\n",
    "trainer.test(dataloaders=[data_module.test_dataloader()])\n",
    "trainer.save_checkpoint('save_files/best_model.ckpt', weights_only=True)"
   ]
  }
 ],
 "metadata": {
  "interpreter": {
   "hash": "949777d72b0d2535278d3dc13498b2535136f6dfe0678499012e853ee9abcab1"
  },
  "kernelspec": {
   "display_name": "Python 3.7.13 64-bit",
   "language": "python",
   "name": "python3"
  },
  "language_info": {
   "codemirror_mode": {
    "name": "ipython",
    "version": 3
   },
   "file_extension": ".py",
   "mimetype": "text/x-python",
   "name": "python",
   "nbconvert_exporter": "python",
   "pygments_lexer": "ipython3",
   "version": "3.7.13"
  },
  "orig_nbformat": 4
 },
 "nbformat": 4,
 "nbformat_minor": 2
}
